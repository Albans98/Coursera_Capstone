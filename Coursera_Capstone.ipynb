{
  "nbformat": 4,
  "nbformat_minor": 0,
  "metadata": {
    "colab": {
      "name": "Coursera_Capstone.ipynb",
      "provenance": [],
      "collapsed_sections": []
    },
    "kernelspec": {
      "name": "python3",
      "display_name": "Python 3"
    }
  },
  "cells": [
    {
      "cell_type": "markdown",
      "metadata": {
        "id": "rzZAeWbqC3Nz",
        "colab_type": "text"
      },
      "source": [
        "# Data Science Capstone"
      ]
    },
    {
      "cell_type": "markdown",
      "metadata": {
        "id": "Kgc74iyAC8kg",
        "colab_type": "text"
      },
      "source": [
        "This notebook is part of the online course I am doing about Data Science.  \n",
        "Check [this](https://www.coursera.org/learn/applied-data-science-capstone) website !"
      ]
    },
    {
      "cell_type": "code",
      "metadata": {
        "id": "AHEW-zt2Cm9o",
        "colab_type": "code",
        "colab": {}
      },
      "source": [
        "import pandas as pd\n",
        "import numpy as np"
      ],
      "execution_count": 0,
      "outputs": []
    },
    {
      "cell_type": "code",
      "metadata": {
        "id": "0o9_rYmDCuL8",
        "colab_type": "code",
        "colab": {
          "base_uri": "https://localhost:8080/",
          "height": 34
        },
        "outputId": "f153c1d2-da91-409d-a6ab-0ec7caeea4af"
      },
      "source": [
        "print('Hello Capstone Project Course !')"
      ],
      "execution_count": 2,
      "outputs": [
        {
          "output_type": "stream",
          "text": [
            "Hello Capstone Project Course !\n"
          ],
          "name": "stdout"
        }
      ]
    }
  ]
}