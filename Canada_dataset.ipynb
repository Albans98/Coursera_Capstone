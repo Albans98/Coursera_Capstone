{
  "nbformat": 4,
  "nbformat_minor": 0,
  "metadata": {
    "colab": {
      "name": "Canada_dataset.ipynb",
      "provenance": [],
      "collapsed_sections": [],
      "toc_visible": true
    },
    "kernelspec": {
      "name": "python3",
      "display_name": "Python 3"
    }
  },
  "cells": [
    {
      "cell_type": "markdown",
      "metadata": {
        "id": "rzZAeWbqC3Nz",
        "colab_type": "text"
      },
      "source": [
        "# Data Science Capstone"
      ]
    },
    {
      "cell_type": "markdown",
      "metadata": {
        "id": "Kgc74iyAC8kg",
        "colab_type": "text"
      },
      "source": [
        "This notebook is part of the online course I am doing about Data Science.  \n",
        "Check [this](https://www.coursera.org/learn/applied-data-science-capstone) website !"
      ]
    },
    {
      "cell_type": "markdown",
      "metadata": {
        "id": "mJoPfIEFhdpy",
        "colab_type": "text"
      },
      "source": [
        "Import libraries"
      ]
    },
    {
      "cell_type": "code",
      "metadata": {
        "id": "AHEW-zt2Cm9o",
        "colab_type": "code",
        "colab": {}
      },
      "source": [
        "import pandas as pd\n",
        "import numpy as np\n",
        "import requests\n",
        "from bs4 import BeautifulSoup"
      ],
      "execution_count": 0,
      "outputs": []
    },
    {
      "cell_type": "markdown",
      "metadata": {
        "id": "Nf55ZyVahfcq",
        "colab_type": "text"
      },
      "source": [
        "Let's use BeautifulSoup to scrape wikipedia data"
      ]
    },
    {
      "cell_type": "code",
      "metadata": {
        "id": "SQZMtnB--DNG",
        "colab_type": "code",
        "colab": {
          "base_uri": "https://localhost:8080/",
          "height": 54
        },
        "outputId": "7904e7ca-9382-4537-e72c-0ba78a90cef1"
      },
      "source": [
        "res = requests.get(\"https://en.wikipedia.org/wiki/List_of_postal_codes_of_Canada:_M\")\n",
        "soup = BeautifulSoup(res.content,'lxml')\n",
        "table = soup.find_all('table')[0] \n",
        "df = pd.read_html(str(table))\n",
        "print(df[0].to_json(orient='records'))"
      ],
      "execution_count": 29,
      "outputs": [
        {
          "output_type": "stream",
          "text": [
            "[{\"Postal code\":\"M1A\",\"Borough\":\"Not assigned\",\"Neighborhood\":null},{\"Postal code\":\"M2A\",\"Borough\":\"Not assigned\",\"Neighborhood\":null},{\"Postal code\":\"M3A\",\"Borough\":\"North York\",\"Neighborhood\":\"Parkwoods\"},{\"Postal code\":\"M4A\",\"Borough\":\"North York\",\"Neighborhood\":\"Victoria Village\"},{\"Postal code\":\"M5A\",\"Borough\":\"Downtown Toronto\",\"Neighborhood\":\"Regent Park \\/ Harbourfront\"},{\"Postal code\":\"M6A\",\"Borough\":\"North York\",\"Neighborhood\":\"Lawrence Manor \\/ Lawrence Heights\"},{\"Postal code\":\"M7A\",\"Borough\":\"Downtown Toronto\",\"Neighborhood\":\"Queen's Park \\/ Ontario Provincial Government\"},{\"Postal code\":\"M8A\",\"Borough\":\"Not assigned\",\"Neighborhood\":null},{\"Postal code\":\"M9A\",\"Borough\":\"Etobicoke\",\"Neighborhood\":\"Islington Avenue\"},{\"Postal code\":\"M1B\",\"Borough\":\"Scarborough\",\"Neighborhood\":\"Malvern \\/ Rouge\"},{\"Postal code\":\"M2B\",\"Borough\":\"Not assigned\",\"Neighborhood\":null},{\"Postal code\":\"M3B\",\"Borough\":\"North York\",\"Neighborhood\":\"Don Mills\"},{\"Postal code\":\"M4B\",\"Borough\":\"East York\",\"Neighborhood\":\"Parkview Hill \\/ Woodbine Gardens\"},{\"Postal code\":\"M5B\",\"Borough\":\"Downtown Toronto\",\"Neighborhood\":\"Garden District \\/ Ryerson\"},{\"Postal code\":\"M6B\",\"Borough\":\"North York\",\"Neighborhood\":\"Glencairn\"},{\"Postal code\":\"M7B\",\"Borough\":\"Not assigned\",\"Neighborhood\":null},{\"Postal code\":\"M8B\",\"Borough\":\"Not assigned\",\"Neighborhood\":null},{\"Postal code\":\"M9B\",\"Borough\":\"Etobicoke\",\"Neighborhood\":\"West Deane Park \\/ Princess Gardens \\/ Martin Grove \\/ Islington \\/ Cloverdale\"},{\"Postal code\":\"M1C\",\"Borough\":\"Scarborough\",\"Neighborhood\":\"Rouge Hill \\/ Port Union \\/ Highland Creek\"},{\"Postal code\":\"M2C\",\"Borough\":\"Not assigned\",\"Neighborhood\":null},{\"Postal code\":\"M3C\",\"Borough\":\"North York\",\"Neighborhood\":\"Don Mills\"},{\"Postal code\":\"M4C\",\"Borough\":\"East York\",\"Neighborhood\":\"Woodbine Heights\"},{\"Postal code\":\"M5C\",\"Borough\":\"Downtown Toronto\",\"Neighborhood\":\"St. James Town\"},{\"Postal code\":\"M6C\",\"Borough\":\"York\",\"Neighborhood\":\"Humewood-Cedarvale\"},{\"Postal code\":\"M7C\",\"Borough\":\"Not assigned\",\"Neighborhood\":null},{\"Postal code\":\"M8C\",\"Borough\":\"Not assigned\",\"Neighborhood\":null},{\"Postal code\":\"M9C\",\"Borough\":\"Etobicoke\",\"Neighborhood\":\"Eringate \\/ Bloordale Gardens \\/ Old Burnhamthorpe \\/ Markland Wood\"},{\"Postal code\":\"M1E\",\"Borough\":\"Scarborough\",\"Neighborhood\":\"Guildwood \\/ Morningside \\/ West Hill\"},{\"Postal code\":\"M2E\",\"Borough\":\"Not assigned\",\"Neighborhood\":null},{\"Postal code\":\"M3E\",\"Borough\":\"Not assigned\",\"Neighborhood\":null},{\"Postal code\":\"M4E\",\"Borough\":\"East Toronto\",\"Neighborhood\":\"The Beaches\"},{\"Postal code\":\"M5E\",\"Borough\":\"Downtown Toronto\",\"Neighborhood\":\"Berczy Park\"},{\"Postal code\":\"M6E\",\"Borough\":\"York\",\"Neighborhood\":\"Caledonia-Fairbanks\"},{\"Postal code\":\"M7E\",\"Borough\":\"Not assigned\",\"Neighborhood\":null},{\"Postal code\":\"M8E\",\"Borough\":\"Not assigned\",\"Neighborhood\":null},{\"Postal code\":\"M9E\",\"Borough\":\"Not assigned\",\"Neighborhood\":null},{\"Postal code\":\"M1G\",\"Borough\":\"Scarborough\",\"Neighborhood\":\"Woburn\"},{\"Postal code\":\"M2G\",\"Borough\":\"Not assigned\",\"Neighborhood\":null},{\"Postal code\":\"M3G\",\"Borough\":\"Not assigned\",\"Neighborhood\":null},{\"Postal code\":\"M4G\",\"Borough\":\"East York\",\"Neighborhood\":\"Leaside\"},{\"Postal code\":\"M5G\",\"Borough\":\"Downtown Toronto\",\"Neighborhood\":\"Central Bay Street\"},{\"Postal code\":\"M6G\",\"Borough\":\"Downtown Toronto\",\"Neighborhood\":\"Christie\"},{\"Postal code\":\"M7G\",\"Borough\":\"Not assigned\",\"Neighborhood\":null},{\"Postal code\":\"M8G\",\"Borough\":\"Not assigned\",\"Neighborhood\":null},{\"Postal code\":\"M9G\",\"Borough\":\"Not assigned\",\"Neighborhood\":null},{\"Postal code\":\"M1H\",\"Borough\":\"Scarborough\",\"Neighborhood\":\"Cedarbrae\"},{\"Postal code\":\"M2H\",\"Borough\":\"North York\",\"Neighborhood\":\"Hillcrest Village\"},{\"Postal code\":\"M3H\",\"Borough\":\"North York\",\"Neighborhood\":\"Bathurst Manor \\/ Wilson Heights \\/ Downsview North\"},{\"Postal code\":\"M4H\",\"Borough\":\"East York\",\"Neighborhood\":\"Thorncliffe Park\"},{\"Postal code\":\"M5H\",\"Borough\":\"Downtown Toronto\",\"Neighborhood\":\"Richmond \\/ Adelaide \\/ King\"},{\"Postal code\":\"M6H\",\"Borough\":\"West Toronto\",\"Neighborhood\":\"Dufferin \\/ Dovercourt Village\"},{\"Postal code\":\"M7H\",\"Borough\":\"Not assigned\",\"Neighborhood\":null},{\"Postal code\":\"M8H\",\"Borough\":\"Not assigned\",\"Neighborhood\":null},{\"Postal code\":\"M9H\",\"Borough\":\"Not assigned\",\"Neighborhood\":null},{\"Postal code\":\"M1J\",\"Borough\":\"Scarborough\",\"Neighborhood\":\"Scarborough Village\"},{\"Postal code\":\"M2J\",\"Borough\":\"North York\",\"Neighborhood\":\"Fairview \\/ Henry Farm \\/ Oriole\"},{\"Postal code\":\"M3J\",\"Borough\":\"North York\",\"Neighborhood\":\"Northwood Park \\/ York University\"},{\"Postal code\":\"M4J\",\"Borough\":\"East York\",\"Neighborhood\":\"East Toronto\"},{\"Postal code\":\"M5J\",\"Borough\":\"Downtown Toronto\",\"Neighborhood\":\"Harbourfront East \\/ Union Station \\/ Toronto Islands\"},{\"Postal code\":\"M6J\",\"Borough\":\"West Toronto\",\"Neighborhood\":\"Little Portugal \\/ Trinity\"},{\"Postal code\":\"M7J\",\"Borough\":\"Not assigned\",\"Neighborhood\":null},{\"Postal code\":\"M8J\",\"Borough\":\"Not assigned\",\"Neighborhood\":null},{\"Postal code\":\"M9J\",\"Borough\":\"Not assigned\",\"Neighborhood\":null},{\"Postal code\":\"M1K\",\"Borough\":\"Scarborough\",\"Neighborhood\":\"Kennedy Park \\/ Ionview \\/ East Birchmount Park\"},{\"Postal code\":\"M2K\",\"Borough\":\"North York\",\"Neighborhood\":\"Bayview Village\"},{\"Postal code\":\"M3K\",\"Borough\":\"North York\",\"Neighborhood\":\"Downsview\"},{\"Postal code\":\"M4K\",\"Borough\":\"East Toronto\",\"Neighborhood\":\"The Danforth West \\/ Riverdale\"},{\"Postal code\":\"M5K\",\"Borough\":\"Downtown Toronto\",\"Neighborhood\":\"Toronto Dominion Centre \\/ Design Exchange\"},{\"Postal code\":\"M6K\",\"Borough\":\"West Toronto\",\"Neighborhood\":\"Brockton \\/ Parkdale Village \\/ Exhibition Place\"},{\"Postal code\":\"M7K\",\"Borough\":\"Not assigned\",\"Neighborhood\":null},{\"Postal code\":\"M8K\",\"Borough\":\"Not assigned\",\"Neighborhood\":null},{\"Postal code\":\"M9K\",\"Borough\":\"Not assigned\",\"Neighborhood\":null},{\"Postal code\":\"M1L\",\"Borough\":\"Scarborough\",\"Neighborhood\":\"Golden Mile \\/ Clairlea \\/ Oakridge\"},{\"Postal code\":\"M2L\",\"Borough\":\"North York\",\"Neighborhood\":\"York Mills \\/ Silver Hills\"},{\"Postal code\":\"M3L\",\"Borough\":\"North York\",\"Neighborhood\":\"Downsview\"},{\"Postal code\":\"M4L\",\"Borough\":\"East Toronto\",\"Neighborhood\":\"India Bazaar \\/ The Beaches West\"},{\"Postal code\":\"M5L\",\"Borough\":\"Downtown Toronto\",\"Neighborhood\":\"Commerce Court \\/ Victoria Hotel\"},{\"Postal code\":\"M6L\",\"Borough\":\"North York\",\"Neighborhood\":\"North Park \\/ Maple Leaf Park \\/ Upwood Park\"},{\"Postal code\":\"M7L\",\"Borough\":\"Not assigned\",\"Neighborhood\":null},{\"Postal code\":\"M8L\",\"Borough\":\"Not assigned\",\"Neighborhood\":null},{\"Postal code\":\"M9L\",\"Borough\":\"North York\",\"Neighborhood\":\"Humber Summit\"},{\"Postal code\":\"M1M\",\"Borough\":\"Scarborough\",\"Neighborhood\":\"Cliffside \\/ Cliffcrest \\/ Scarborough Village West\"},{\"Postal code\":\"M2M\",\"Borough\":\"North York\",\"Neighborhood\":\"Willowdale \\/ Newtonbrook\"},{\"Postal code\":\"M3M\",\"Borough\":\"North York\",\"Neighborhood\":\"Downsview\"},{\"Postal code\":\"M4M\",\"Borough\":\"East Toronto\",\"Neighborhood\":\"Studio District\"},{\"Postal code\":\"M5M\",\"Borough\":\"North York\",\"Neighborhood\":\"Bedford Park \\/ Lawrence Manor East\"},{\"Postal code\":\"M6M\",\"Borough\":\"York\",\"Neighborhood\":\"Del Ray \\/ Mount Dennis \\/ Keelsdale and Silverthorn\"},{\"Postal code\":\"M7M\",\"Borough\":\"Not assigned\",\"Neighborhood\":null},{\"Postal code\":\"M8M\",\"Borough\":\"Not assigned\",\"Neighborhood\":null},{\"Postal code\":\"M9M\",\"Borough\":\"North York\",\"Neighborhood\":\"Humberlea \\/ Emery\"},{\"Postal code\":\"M1N\",\"Borough\":\"Scarborough\",\"Neighborhood\":\"Birch Cliff \\/ Cliffside West\"},{\"Postal code\":\"M2N\",\"Borough\":\"North York\",\"Neighborhood\":\"Willowdale\"},{\"Postal code\":\"M3N\",\"Borough\":\"North York\",\"Neighborhood\":\"Downsview\"},{\"Postal code\":\"M4N\",\"Borough\":\"Central Toronto\",\"Neighborhood\":\"Lawrence Park\"},{\"Postal code\":\"M5N\",\"Borough\":\"Central Toronto\",\"Neighborhood\":\"Roselawn\"},{\"Postal code\":\"M6N\",\"Borough\":\"York\",\"Neighborhood\":\"Runnymede \\/ The Junction North\"},{\"Postal code\":\"M7N\",\"Borough\":\"Not assigned\",\"Neighborhood\":null},{\"Postal code\":\"M8N\",\"Borough\":\"Not assigned\",\"Neighborhood\":null},{\"Postal code\":\"M9N\",\"Borough\":\"York\",\"Neighborhood\":\"Weston\"},{\"Postal code\":\"M1P\",\"Borough\":\"Scarborough\",\"Neighborhood\":\"Dorset Park \\/ Wexford Heights \\/ Scarborough Town Centre\"},{\"Postal code\":\"M2P\",\"Borough\":\"North York\",\"Neighborhood\":\"York Mills West\"},{\"Postal code\":\"M3P\",\"Borough\":\"Not assigned\",\"Neighborhood\":null},{\"Postal code\":\"M4P\",\"Borough\":\"Central Toronto\",\"Neighborhood\":\"Davisville North\"},{\"Postal code\":\"M5P\",\"Borough\":\"Central Toronto\",\"Neighborhood\":\"Forest Hill North & West\"},{\"Postal code\":\"M6P\",\"Borough\":\"West Toronto\",\"Neighborhood\":\"High Park \\/ The Junction South\"},{\"Postal code\":\"M7P\",\"Borough\":\"Not assigned\",\"Neighborhood\":null},{\"Postal code\":\"M8P\",\"Borough\":\"Not assigned\",\"Neighborhood\":null},{\"Postal code\":\"M9P\",\"Borough\":\"Etobicoke\",\"Neighborhood\":\"Westmount\"},{\"Postal code\":\"M1R\",\"Borough\":\"Scarborough\",\"Neighborhood\":\"Wexford \\/ Maryvale\"},{\"Postal code\":\"M2R\",\"Borough\":\"North York\",\"Neighborhood\":\"Willowdale\"},{\"Postal code\":\"M3R\",\"Borough\":\"Not assigned\",\"Neighborhood\":null},{\"Postal code\":\"M4R\",\"Borough\":\"Central Toronto\",\"Neighborhood\":\"North Toronto West\"},{\"Postal code\":\"M5R\",\"Borough\":\"Central Toronto\",\"Neighborhood\":\"The Annex \\/ North Midtown \\/ Yorkville\"},{\"Postal code\":\"M6R\",\"Borough\":\"West Toronto\",\"Neighborhood\":\"Parkdale \\/ Roncesvalles\"},{\"Postal code\":\"M7R\",\"Borough\":\"Mississauga\",\"Neighborhood\":\"Canada Post Gateway Processing Centre\"},{\"Postal code\":\"M8R\",\"Borough\":\"Not assigned\",\"Neighborhood\":null},{\"Postal code\":\"M9R\",\"Borough\":\"Etobicoke\",\"Neighborhood\":\"Kingsview Village \\/ St. Phillips \\/ Martin Grove Gardens \\/ Richview Gardens\"},{\"Postal code\":\"M1S\",\"Borough\":\"Scarborough\",\"Neighborhood\":\"Agincourt\"},{\"Postal code\":\"M2S\",\"Borough\":\"Not assigned\",\"Neighborhood\":null},{\"Postal code\":\"M3S\",\"Borough\":\"Not assigned\",\"Neighborhood\":null},{\"Postal code\":\"M4S\",\"Borough\":\"Central Toronto\",\"Neighborhood\":\"Davisville\"},{\"Postal code\":\"M5S\",\"Borough\":\"Downtown Toronto\",\"Neighborhood\":\"University of Toronto \\/ Harbord\"},{\"Postal code\":\"M6S\",\"Borough\":\"West Toronto\",\"Neighborhood\":\"Runnymede \\/ Swansea\"},{\"Postal code\":\"M7S\",\"Borough\":\"Not assigned\",\"Neighborhood\":null},{\"Postal code\":\"M8S\",\"Borough\":\"Not assigned\",\"Neighborhood\":null},{\"Postal code\":\"M9S\",\"Borough\":\"Not assigned\",\"Neighborhood\":null},{\"Postal code\":\"M1T\",\"Borough\":\"Scarborough\",\"Neighborhood\":\"Clarks Corners \\/ Tam O'Shanter \\/ Sullivan\"},{\"Postal code\":\"M2T\",\"Borough\":\"Not assigned\",\"Neighborhood\":null},{\"Postal code\":\"M3T\",\"Borough\":\"Not assigned\",\"Neighborhood\":null},{\"Postal code\":\"M4T\",\"Borough\":\"Central Toronto\",\"Neighborhood\":\"Moore Park \\/ Summerhill East\"},{\"Postal code\":\"M5T\",\"Borough\":\"Downtown Toronto\",\"Neighborhood\":\"Kensington Market \\/ Chinatown \\/ Grange Park\"},{\"Postal code\":\"M6T\",\"Borough\":\"Not assigned\",\"Neighborhood\":null},{\"Postal code\":\"M7T\",\"Borough\":\"Not assigned\",\"Neighborhood\":null},{\"Postal code\":\"M8T\",\"Borough\":\"Not assigned\",\"Neighborhood\":null},{\"Postal code\":\"M9T\",\"Borough\":\"Not assigned\",\"Neighborhood\":null},{\"Postal code\":\"M1V\",\"Borough\":\"Scarborough\",\"Neighborhood\":\"Milliken \\/ Agincourt North \\/ Steeles East \\/ L'Amoreaux East\"},{\"Postal code\":\"M2V\",\"Borough\":\"Not assigned\",\"Neighborhood\":null},{\"Postal code\":\"M3V\",\"Borough\":\"Not assigned\",\"Neighborhood\":null},{\"Postal code\":\"M4V\",\"Borough\":\"Central Toronto\",\"Neighborhood\":\"Summerhill West \\/ Rathnelly \\/ South Hill \\/ Forest Hill SE \\/ Deer Park\"},{\"Postal code\":\"M5V\",\"Borough\":\"Downtown Toronto\",\"Neighborhood\":\"CN Tower \\/ King and Spadina \\/ Railway Lands \\/ Harbourfront West \\/ Bathurst Quay \\/ South Niagara \\/ Island airport\"},{\"Postal code\":\"M6V\",\"Borough\":\"Not assigned\",\"Neighborhood\":null},{\"Postal code\":\"M7V\",\"Borough\":\"Not assigned\",\"Neighborhood\":null},{\"Postal code\":\"M8V\",\"Borough\":\"Etobicoke\",\"Neighborhood\":\"New Toronto \\/ Mimico South \\/ Humber Bay Shores\"},{\"Postal code\":\"M9V\",\"Borough\":\"Etobicoke\",\"Neighborhood\":\"South Steeles \\/ Silverstone \\/ Humbergate \\/ Jamestown \\/ Mount Olive \\/ Beaumond Heights \\/ Thistletown \\/ Albion Gardens\"},{\"Postal code\":\"M1W\",\"Borough\":\"Scarborough\",\"Neighborhood\":\"Steeles West \\/ L'Amoreaux West\"},{\"Postal code\":\"M2W\",\"Borough\":\"Not assigned\",\"Neighborhood\":null},{\"Postal code\":\"M3W\",\"Borough\":\"Not assigned\",\"Neighborhood\":null},{\"Postal code\":\"M4W\",\"Borough\":\"Downtown Toronto\",\"Neighborhood\":\"Rosedale\"},{\"Postal code\":\"M5W\",\"Borough\":\"Downtown Toronto\",\"Neighborhood\":\"Stn A PO Boxes\"},{\"Postal code\":\"M6W\",\"Borough\":\"Not assigned\",\"Neighborhood\":null},{\"Postal code\":\"M7W\",\"Borough\":\"Not assigned\",\"Neighborhood\":null},{\"Postal code\":\"M8W\",\"Borough\":\"Etobicoke\",\"Neighborhood\":\"Alderwood \\/ Long Branch\"},{\"Postal code\":\"M9W\",\"Borough\":\"Etobicoke\",\"Neighborhood\":\"Northwest\"},{\"Postal code\":\"M1X\",\"Borough\":\"Scarborough\",\"Neighborhood\":\"Upper Rouge\"},{\"Postal code\":\"M2X\",\"Borough\":\"Not assigned\",\"Neighborhood\":null},{\"Postal code\":\"M3X\",\"Borough\":\"Not assigned\",\"Neighborhood\":null},{\"Postal code\":\"M4X\",\"Borough\":\"Downtown Toronto\",\"Neighborhood\":\"St. James Town \\/ Cabbagetown\"},{\"Postal code\":\"M5X\",\"Borough\":\"Downtown Toronto\",\"Neighborhood\":\"First Canadian Place \\/ Underground city\"},{\"Postal code\":\"M6X\",\"Borough\":\"Not assigned\",\"Neighborhood\":null},{\"Postal code\":\"M7X\",\"Borough\":\"Not assigned\",\"Neighborhood\":null},{\"Postal code\":\"M8X\",\"Borough\":\"Etobicoke\",\"Neighborhood\":\"The Kingsway \\/ Montgomery Road \\/ Old Mill North\"},{\"Postal code\":\"M9X\",\"Borough\":\"Not assigned\",\"Neighborhood\":null},{\"Postal code\":\"M1Y\",\"Borough\":\"Not assigned\",\"Neighborhood\":null},{\"Postal code\":\"M2Y\",\"Borough\":\"Not assigned\",\"Neighborhood\":null},{\"Postal code\":\"M3Y\",\"Borough\":\"Not assigned\",\"Neighborhood\":null},{\"Postal code\":\"M4Y\",\"Borough\":\"Downtown Toronto\",\"Neighborhood\":\"Church and Wellesley\"},{\"Postal code\":\"M5Y\",\"Borough\":\"Not assigned\",\"Neighborhood\":null},{\"Postal code\":\"M6Y\",\"Borough\":\"Not assigned\",\"Neighborhood\":null},{\"Postal code\":\"M7Y\",\"Borough\":\"East Toronto\",\"Neighborhood\":\"Business reply mail Processing Centre\"},{\"Postal code\":\"M8Y\",\"Borough\":\"Etobicoke\",\"Neighborhood\":\"Old Mill South \\/ King's Mill Park \\/ Sunnylea \\/ Humber Bay \\/ Mimico NE \\/ The Queensway East \\/ Royal York South East \\/ Kingsway Park South East\"},{\"Postal code\":\"M9Y\",\"Borough\":\"Not assigned\",\"Neighborhood\":null},{\"Postal code\":\"M1Z\",\"Borough\":\"Not assigned\",\"Neighborhood\":null},{\"Postal code\":\"M2Z\",\"Borough\":\"Not assigned\",\"Neighborhood\":null},{\"Postal code\":\"M3Z\",\"Borough\":\"Not assigned\",\"Neighborhood\":null},{\"Postal code\":\"M4Z\",\"Borough\":\"Not assigned\",\"Neighborhood\":null},{\"Postal code\":\"M5Z\",\"Borough\":\"Not assigned\",\"Neighborhood\":null},{\"Postal code\":\"M6Z\",\"Borough\":\"Not assigned\",\"Neighborhood\":null},{\"Postal code\":\"M7Z\",\"Borough\":\"Not assigned\",\"Neighborhood\":null},{\"Postal code\":\"M8Z\",\"Borough\":\"Etobicoke\",\"Neighborhood\":\"Mimico NW \\/ The Queensway West \\/ South of Bloor \\/ Kingsway Park South West \\/ Royal York South West\"},{\"Postal code\":\"M9Z\",\"Borough\":\"Not assigned\",\"Neighborhood\":null}]\n"
          ],
          "name": "stdout"
        }
      ]
    },
    {
      "cell_type": "code",
      "metadata": {
        "id": "hqUCN3W7-H16",
        "colab_type": "code",
        "colab": {
          "base_uri": "https://localhost:8080/",
          "height": 54
        },
        "outputId": "4cc453b4-2f73-4867-b48d-716cfc7203b4"
      },
      "source": [
        "data = df[0].to_json(orient='records')\n",
        "data"
      ],
      "execution_count": 30,
      "outputs": [
        {
          "output_type": "execute_result",
          "data": {
            "text/plain": [
              "'[{\"Postal code\":\"M1A\",\"Borough\":\"Not assigned\",\"Neighborhood\":null},{\"Postal code\":\"M2A\",\"Borough\":\"Not assigned\",\"Neighborhood\":null},{\"Postal code\":\"M3A\",\"Borough\":\"North York\",\"Neighborhood\":\"Parkwoods\"},{\"Postal code\":\"M4A\",\"Borough\":\"North York\",\"Neighborhood\":\"Victoria Village\"},{\"Postal code\":\"M5A\",\"Borough\":\"Downtown Toronto\",\"Neighborhood\":\"Regent Park \\\\/ Harbourfront\"},{\"Postal code\":\"M6A\",\"Borough\":\"North York\",\"Neighborhood\":\"Lawrence Manor \\\\/ Lawrence Heights\"},{\"Postal code\":\"M7A\",\"Borough\":\"Downtown Toronto\",\"Neighborhood\":\"Queen\\'s Park \\\\/ Ontario Provincial Government\"},{\"Postal code\":\"M8A\",\"Borough\":\"Not assigned\",\"Neighborhood\":null},{\"Postal code\":\"M9A\",\"Borough\":\"Etobicoke\",\"Neighborhood\":\"Islington Avenue\"},{\"Postal code\":\"M1B\",\"Borough\":\"Scarborough\",\"Neighborhood\":\"Malvern \\\\/ Rouge\"},{\"Postal code\":\"M2B\",\"Borough\":\"Not assigned\",\"Neighborhood\":null},{\"Postal code\":\"M3B\",\"Borough\":\"North York\",\"Neighborhood\":\"Don Mills\"},{\"Postal code\":\"M4B\",\"Borough\":\"East York\",\"Neighborhood\":\"Parkview Hill \\\\/ Woodbine Gardens\"},{\"Postal code\":\"M5B\",\"Borough\":\"Downtown Toronto\",\"Neighborhood\":\"Garden District \\\\/ Ryerson\"},{\"Postal code\":\"M6B\",\"Borough\":\"North York\",\"Neighborhood\":\"Glencairn\"},{\"Postal code\":\"M7B\",\"Borough\":\"Not assigned\",\"Neighborhood\":null},{\"Postal code\":\"M8B\",\"Borough\":\"Not assigned\",\"Neighborhood\":null},{\"Postal code\":\"M9B\",\"Borough\":\"Etobicoke\",\"Neighborhood\":\"West Deane Park \\\\/ Princess Gardens \\\\/ Martin Grove \\\\/ Islington \\\\/ Cloverdale\"},{\"Postal code\":\"M1C\",\"Borough\":\"Scarborough\",\"Neighborhood\":\"Rouge Hill \\\\/ Port Union \\\\/ Highland Creek\"},{\"Postal code\":\"M2C\",\"Borough\":\"Not assigned\",\"Neighborhood\":null},{\"Postal code\":\"M3C\",\"Borough\":\"North York\",\"Neighborhood\":\"Don Mills\"},{\"Postal code\":\"M4C\",\"Borough\":\"East York\",\"Neighborhood\":\"Woodbine Heights\"},{\"Postal code\":\"M5C\",\"Borough\":\"Downtown Toronto\",\"Neighborhood\":\"St. James Town\"},{\"Postal code\":\"M6C\",\"Borough\":\"York\",\"Neighborhood\":\"Humewood-Cedarvale\"},{\"Postal code\":\"M7C\",\"Borough\":\"Not assigned\",\"Neighborhood\":null},{\"Postal code\":\"M8C\",\"Borough\":\"Not assigned\",\"Neighborhood\":null},{\"Postal code\":\"M9C\",\"Borough\":\"Etobicoke\",\"Neighborhood\":\"Eringate \\\\/ Bloordale Gardens \\\\/ Old Burnhamthorpe \\\\/ Markland Wood\"},{\"Postal code\":\"M1E\",\"Borough\":\"Scarborough\",\"Neighborhood\":\"Guildwood \\\\/ Morningside \\\\/ West Hill\"},{\"Postal code\":\"M2E\",\"Borough\":\"Not assigned\",\"Neighborhood\":null},{\"Postal code\":\"M3E\",\"Borough\":\"Not assigned\",\"Neighborhood\":null},{\"Postal code\":\"M4E\",\"Borough\":\"East Toronto\",\"Neighborhood\":\"The Beaches\"},{\"Postal code\":\"M5E\",\"Borough\":\"Downtown Toronto\",\"Neighborhood\":\"Berczy Park\"},{\"Postal code\":\"M6E\",\"Borough\":\"York\",\"Neighborhood\":\"Caledonia-Fairbanks\"},{\"Postal code\":\"M7E\",\"Borough\":\"Not assigned\",\"Neighborhood\":null},{\"Postal code\":\"M8E\",\"Borough\":\"Not assigned\",\"Neighborhood\":null},{\"Postal code\":\"M9E\",\"Borough\":\"Not assigned\",\"Neighborhood\":null},{\"Postal code\":\"M1G\",\"Borough\":\"Scarborough\",\"Neighborhood\":\"Woburn\"},{\"Postal code\":\"M2G\",\"Borough\":\"Not assigned\",\"Neighborhood\":null},{\"Postal code\":\"M3G\",\"Borough\":\"Not assigned\",\"Neighborhood\":null},{\"Postal code\":\"M4G\",\"Borough\":\"East York\",\"Neighborhood\":\"Leaside\"},{\"Postal code\":\"M5G\",\"Borough\":\"Downtown Toronto\",\"Neighborhood\":\"Central Bay Street\"},{\"Postal code\":\"M6G\",\"Borough\":\"Downtown Toronto\",\"Neighborhood\":\"Christie\"},{\"Postal code\":\"M7G\",\"Borough\":\"Not assigned\",\"Neighborhood\":null},{\"Postal code\":\"M8G\",\"Borough\":\"Not assigned\",\"Neighborhood\":null},{\"Postal code\":\"M9G\",\"Borough\":\"Not assigned\",\"Neighborhood\":null},{\"Postal code\":\"M1H\",\"Borough\":\"Scarborough\",\"Neighborhood\":\"Cedarbrae\"},{\"Postal code\":\"M2H\",\"Borough\":\"North York\",\"Neighborhood\":\"Hillcrest Village\"},{\"Postal code\":\"M3H\",\"Borough\":\"North York\",\"Neighborhood\":\"Bathurst Manor \\\\/ Wilson Heights \\\\/ Downsview North\"},{\"Postal code\":\"M4H\",\"Borough\":\"East York\",\"Neighborhood\":\"Thorncliffe Park\"},{\"Postal code\":\"M5H\",\"Borough\":\"Downtown Toronto\",\"Neighborhood\":\"Richmond \\\\/ Adelaide \\\\/ King\"},{\"Postal code\":\"M6H\",\"Borough\":\"West Toronto\",\"Neighborhood\":\"Dufferin \\\\/ Dovercourt Village\"},{\"Postal code\":\"M7H\",\"Borough\":\"Not assigned\",\"Neighborhood\":null},{\"Postal code\":\"M8H\",\"Borough\":\"Not assigned\",\"Neighborhood\":null},{\"Postal code\":\"M9H\",\"Borough\":\"Not assigned\",\"Neighborhood\":null},{\"Postal code\":\"M1J\",\"Borough\":\"Scarborough\",\"Neighborhood\":\"Scarborough Village\"},{\"Postal code\":\"M2J\",\"Borough\":\"North York\",\"Neighborhood\":\"Fairview \\\\/ Henry Farm \\\\/ Oriole\"},{\"Postal code\":\"M3J\",\"Borough\":\"North York\",\"Neighborhood\":\"Northwood Park \\\\/ York University\"},{\"Postal code\":\"M4J\",\"Borough\":\"East York\",\"Neighborhood\":\"East Toronto\"},{\"Postal code\":\"M5J\",\"Borough\":\"Downtown Toronto\",\"Neighborhood\":\"Harbourfront East \\\\/ Union Station \\\\/ Toronto Islands\"},{\"Postal code\":\"M6J\",\"Borough\":\"West Toronto\",\"Neighborhood\":\"Little Portugal \\\\/ Trinity\"},{\"Postal code\":\"M7J\",\"Borough\":\"Not assigned\",\"Neighborhood\":null},{\"Postal code\":\"M8J\",\"Borough\":\"Not assigned\",\"Neighborhood\":null},{\"Postal code\":\"M9J\",\"Borough\":\"Not assigned\",\"Neighborhood\":null},{\"Postal code\":\"M1K\",\"Borough\":\"Scarborough\",\"Neighborhood\":\"Kennedy Park \\\\/ Ionview \\\\/ East Birchmount Park\"},{\"Postal code\":\"M2K\",\"Borough\":\"North York\",\"Neighborhood\":\"Bayview Village\"},{\"Postal code\":\"M3K\",\"Borough\":\"North York\",\"Neighborhood\":\"Downsview\"},{\"Postal code\":\"M4K\",\"Borough\":\"East Toronto\",\"Neighborhood\":\"The Danforth West \\\\/ Riverdale\"},{\"Postal code\":\"M5K\",\"Borough\":\"Downtown Toronto\",\"Neighborhood\":\"Toronto Dominion Centre \\\\/ Design Exchange\"},{\"Postal code\":\"M6K\",\"Borough\":\"West Toronto\",\"Neighborhood\":\"Brockton \\\\/ Parkdale Village \\\\/ Exhibition Place\"},{\"Postal code\":\"M7K\",\"Borough\":\"Not assigned\",\"Neighborhood\":null},{\"Postal code\":\"M8K\",\"Borough\":\"Not assigned\",\"Neighborhood\":null},{\"Postal code\":\"M9K\",\"Borough\":\"Not assigned\",\"Neighborhood\":null},{\"Postal code\":\"M1L\",\"Borough\":\"Scarborough\",\"Neighborhood\":\"Golden Mile \\\\/ Clairlea \\\\/ Oakridge\"},{\"Postal code\":\"M2L\",\"Borough\":\"North York\",\"Neighborhood\":\"York Mills \\\\/ Silver Hills\"},{\"Postal code\":\"M3L\",\"Borough\":\"North York\",\"Neighborhood\":\"Downsview\"},{\"Postal code\":\"M4L\",\"Borough\":\"East Toronto\",\"Neighborhood\":\"India Bazaar \\\\/ The Beaches West\"},{\"Postal code\":\"M5L\",\"Borough\":\"Downtown Toronto\",\"Neighborhood\":\"Commerce Court \\\\/ Victoria Hotel\"},{\"Postal code\":\"M6L\",\"Borough\":\"North York\",\"Neighborhood\":\"North Park \\\\/ Maple Leaf Park \\\\/ Upwood Park\"},{\"Postal code\":\"M7L\",\"Borough\":\"Not assigned\",\"Neighborhood\":null},{\"Postal code\":\"M8L\",\"Borough\":\"Not assigned\",\"Neighborhood\":null},{\"Postal code\":\"M9L\",\"Borough\":\"North York\",\"Neighborhood\":\"Humber Summit\"},{\"Postal code\":\"M1M\",\"Borough\":\"Scarborough\",\"Neighborhood\":\"Cliffside \\\\/ Cliffcrest \\\\/ Scarborough Village West\"},{\"Postal code\":\"M2M\",\"Borough\":\"North York\",\"Neighborhood\":\"Willowdale \\\\/ Newtonbrook\"},{\"Postal code\":\"M3M\",\"Borough\":\"North York\",\"Neighborhood\":\"Downsview\"},{\"Postal code\":\"M4M\",\"Borough\":\"East Toronto\",\"Neighborhood\":\"Studio District\"},{\"Postal code\":\"M5M\",\"Borough\":\"North York\",\"Neighborhood\":\"Bedford Park \\\\/ Lawrence Manor East\"},{\"Postal code\":\"M6M\",\"Borough\":\"York\",\"Neighborhood\":\"Del Ray \\\\/ Mount Dennis \\\\/ Keelsdale and Silverthorn\"},{\"Postal code\":\"M7M\",\"Borough\":\"Not assigned\",\"Neighborhood\":null},{\"Postal code\":\"M8M\",\"Borough\":\"Not assigned\",\"Neighborhood\":null},{\"Postal code\":\"M9M\",\"Borough\":\"North York\",\"Neighborhood\":\"Humberlea \\\\/ Emery\"},{\"Postal code\":\"M1N\",\"Borough\":\"Scarborough\",\"Neighborhood\":\"Birch Cliff \\\\/ Cliffside West\"},{\"Postal code\":\"M2N\",\"Borough\":\"North York\",\"Neighborhood\":\"Willowdale\"},{\"Postal code\":\"M3N\",\"Borough\":\"North York\",\"Neighborhood\":\"Downsview\"},{\"Postal code\":\"M4N\",\"Borough\":\"Central Toronto\",\"Neighborhood\":\"Lawrence Park\"},{\"Postal code\":\"M5N\",\"Borough\":\"Central Toronto\",\"Neighborhood\":\"Roselawn\"},{\"Postal code\":\"M6N\",\"Borough\":\"York\",\"Neighborhood\":\"Runnymede \\\\/ The Junction North\"},{\"Postal code\":\"M7N\",\"Borough\":\"Not assigned\",\"Neighborhood\":null},{\"Postal code\":\"M8N\",\"Borough\":\"Not assigned\",\"Neighborhood\":null},{\"Postal code\":\"M9N\",\"Borough\":\"York\",\"Neighborhood\":\"Weston\"},{\"Postal code\":\"M1P\",\"Borough\":\"Scarborough\",\"Neighborhood\":\"Dorset Park \\\\/ Wexford Heights \\\\/ Scarborough Town Centre\"},{\"Postal code\":\"M2P\",\"Borough\":\"North York\",\"Neighborhood\":\"York Mills West\"},{\"Postal code\":\"M3P\",\"Borough\":\"Not assigned\",\"Neighborhood\":null},{\"Postal code\":\"M4P\",\"Borough\":\"Central Toronto\",\"Neighborhood\":\"Davisville North\"},{\"Postal code\":\"M5P\",\"Borough\":\"Central Toronto\",\"Neighborhood\":\"Forest Hill North & West\"},{\"Postal code\":\"M6P\",\"Borough\":\"West Toronto\",\"Neighborhood\":\"High Park \\\\/ The Junction South\"},{\"Postal code\":\"M7P\",\"Borough\":\"Not assigned\",\"Neighborhood\":null},{\"Postal code\":\"M8P\",\"Borough\":\"Not assigned\",\"Neighborhood\":null},{\"Postal code\":\"M9P\",\"Borough\":\"Etobicoke\",\"Neighborhood\":\"Westmount\"},{\"Postal code\":\"M1R\",\"Borough\":\"Scarborough\",\"Neighborhood\":\"Wexford \\\\/ Maryvale\"},{\"Postal code\":\"M2R\",\"Borough\":\"North York\",\"Neighborhood\":\"Willowdale\"},{\"Postal code\":\"M3R\",\"Borough\":\"Not assigned\",\"Neighborhood\":null},{\"Postal code\":\"M4R\",\"Borough\":\"Central Toronto\",\"Neighborhood\":\"North Toronto West\"},{\"Postal code\":\"M5R\",\"Borough\":\"Central Toronto\",\"Neighborhood\":\"The Annex \\\\/ North Midtown \\\\/ Yorkville\"},{\"Postal code\":\"M6R\",\"Borough\":\"West Toronto\",\"Neighborhood\":\"Parkdale \\\\/ Roncesvalles\"},{\"Postal code\":\"M7R\",\"Borough\":\"Mississauga\",\"Neighborhood\":\"Canada Post Gateway Processing Centre\"},{\"Postal code\":\"M8R\",\"Borough\":\"Not assigned\",\"Neighborhood\":null},{\"Postal code\":\"M9R\",\"Borough\":\"Etobicoke\",\"Neighborhood\":\"Kingsview Village \\\\/ St. Phillips \\\\/ Martin Grove Gardens \\\\/ Richview Gardens\"},{\"Postal code\":\"M1S\",\"Borough\":\"Scarborough\",\"Neighborhood\":\"Agincourt\"},{\"Postal code\":\"M2S\",\"Borough\":\"Not assigned\",\"Neighborhood\":null},{\"Postal code\":\"M3S\",\"Borough\":\"Not assigned\",\"Neighborhood\":null},{\"Postal code\":\"M4S\",\"Borough\":\"Central Toronto\",\"Neighborhood\":\"Davisville\"},{\"Postal code\":\"M5S\",\"Borough\":\"Downtown Toronto\",\"Neighborhood\":\"University of Toronto \\\\/ Harbord\"},{\"Postal code\":\"M6S\",\"Borough\":\"West Toronto\",\"Neighborhood\":\"Runnymede \\\\/ Swansea\"},{\"Postal code\":\"M7S\",\"Borough\":\"Not assigned\",\"Neighborhood\":null},{\"Postal code\":\"M8S\",\"Borough\":\"Not assigned\",\"Neighborhood\":null},{\"Postal code\":\"M9S\",\"Borough\":\"Not assigned\",\"Neighborhood\":null},{\"Postal code\":\"M1T\",\"Borough\":\"Scarborough\",\"Neighborhood\":\"Clarks Corners \\\\/ Tam O\\'Shanter \\\\/ Sullivan\"},{\"Postal code\":\"M2T\",\"Borough\":\"Not assigned\",\"Neighborhood\":null},{\"Postal code\":\"M3T\",\"Borough\":\"Not assigned\",\"Neighborhood\":null},{\"Postal code\":\"M4T\",\"Borough\":\"Central Toronto\",\"Neighborhood\":\"Moore Park \\\\/ Summerhill East\"},{\"Postal code\":\"M5T\",\"Borough\":\"Downtown Toronto\",\"Neighborhood\":\"Kensington Market \\\\/ Chinatown \\\\/ Grange Park\"},{\"Postal code\":\"M6T\",\"Borough\":\"Not assigned\",\"Neighborhood\":null},{\"Postal code\":\"M7T\",\"Borough\":\"Not assigned\",\"Neighborhood\":null},{\"Postal code\":\"M8T\",\"Borough\":\"Not assigned\",\"Neighborhood\":null},{\"Postal code\":\"M9T\",\"Borough\":\"Not assigned\",\"Neighborhood\":null},{\"Postal code\":\"M1V\",\"Borough\":\"Scarborough\",\"Neighborhood\":\"Milliken \\\\/ Agincourt North \\\\/ Steeles East \\\\/ L\\'Amoreaux East\"},{\"Postal code\":\"M2V\",\"Borough\":\"Not assigned\",\"Neighborhood\":null},{\"Postal code\":\"M3V\",\"Borough\":\"Not assigned\",\"Neighborhood\":null},{\"Postal code\":\"M4V\",\"Borough\":\"Central Toronto\",\"Neighborhood\":\"Summerhill West \\\\/ Rathnelly \\\\/ South Hill \\\\/ Forest Hill SE \\\\/ Deer Park\"},{\"Postal code\":\"M5V\",\"Borough\":\"Downtown Toronto\",\"Neighborhood\":\"CN Tower \\\\/ King and Spadina \\\\/ Railway Lands \\\\/ Harbourfront West \\\\/ Bathurst Quay \\\\/ South Niagara \\\\/ Island airport\"},{\"Postal code\":\"M6V\",\"Borough\":\"Not assigned\",\"Neighborhood\":null},{\"Postal code\":\"M7V\",\"Borough\":\"Not assigned\",\"Neighborhood\":null},{\"Postal code\":\"M8V\",\"Borough\":\"Etobicoke\",\"Neighborhood\":\"New Toronto \\\\/ Mimico South \\\\/ Humber Bay Shores\"},{\"Postal code\":\"M9V\",\"Borough\":\"Etobicoke\",\"Neighborhood\":\"South Steeles \\\\/ Silverstone \\\\/ Humbergate \\\\/ Jamestown \\\\/ Mount Olive \\\\/ Beaumond Heights \\\\/ Thistletown \\\\/ Albion Gardens\"},{\"Postal code\":\"M1W\",\"Borough\":\"Scarborough\",\"Neighborhood\":\"Steeles West \\\\/ L\\'Amoreaux West\"},{\"Postal code\":\"M2W\",\"Borough\":\"Not assigned\",\"Neighborhood\":null},{\"Postal code\":\"M3W\",\"Borough\":\"Not assigned\",\"Neighborhood\":null},{\"Postal code\":\"M4W\",\"Borough\":\"Downtown Toronto\",\"Neighborhood\":\"Rosedale\"},{\"Postal code\":\"M5W\",\"Borough\":\"Downtown Toronto\",\"Neighborhood\":\"Stn A PO Boxes\"},{\"Postal code\":\"M6W\",\"Borough\":\"Not assigned\",\"Neighborhood\":null},{\"Postal code\":\"M7W\",\"Borough\":\"Not assigned\",\"Neighborhood\":null},{\"Postal code\":\"M8W\",\"Borough\":\"Etobicoke\",\"Neighborhood\":\"Alderwood \\\\/ Long Branch\"},{\"Postal code\":\"M9W\",\"Borough\":\"Etobicoke\",\"Neighborhood\":\"Northwest\"},{\"Postal code\":\"M1X\",\"Borough\":\"Scarborough\",\"Neighborhood\":\"Upper Rouge\"},{\"Postal code\":\"M2X\",\"Borough\":\"Not assigned\",\"Neighborhood\":null},{\"Postal code\":\"M3X\",\"Borough\":\"Not assigned\",\"Neighborhood\":null},{\"Postal code\":\"M4X\",\"Borough\":\"Downtown Toronto\",\"Neighborhood\":\"St. James Town \\\\/ Cabbagetown\"},{\"Postal code\":\"M5X\",\"Borough\":\"Downtown Toronto\",\"Neighborhood\":\"First Canadian Place \\\\/ Underground city\"},{\"Postal code\":\"M6X\",\"Borough\":\"Not assigned\",\"Neighborhood\":null},{\"Postal code\":\"M7X\",\"Borough\":\"Not assigned\",\"Neighborhood\":null},{\"Postal code\":\"M8X\",\"Borough\":\"Etobicoke\",\"Neighborhood\":\"The Kingsway \\\\/ Montgomery Road \\\\/ Old Mill North\"},{\"Postal code\":\"M9X\",\"Borough\":\"Not assigned\",\"Neighborhood\":null},{\"Postal code\":\"M1Y\",\"Borough\":\"Not assigned\",\"Neighborhood\":null},{\"Postal code\":\"M2Y\",\"Borough\":\"Not assigned\",\"Neighborhood\":null},{\"Postal code\":\"M3Y\",\"Borough\":\"Not assigned\",\"Neighborhood\":null},{\"Postal code\":\"M4Y\",\"Borough\":\"Downtown Toronto\",\"Neighborhood\":\"Church and Wellesley\"},{\"Postal code\":\"M5Y\",\"Borough\":\"Not assigned\",\"Neighborhood\":null},{\"Postal code\":\"M6Y\",\"Borough\":\"Not assigned\",\"Neighborhood\":null},{\"Postal code\":\"M7Y\",\"Borough\":\"East Toronto\",\"Neighborhood\":\"Business reply mail Processing Centre\"},{\"Postal code\":\"M8Y\",\"Borough\":\"Etobicoke\",\"Neighborhood\":\"Old Mill South \\\\/ King\\'s Mill Park \\\\/ Sunnylea \\\\/ Humber Bay \\\\/ Mimico NE \\\\/ The Queensway East \\\\/ Royal York South East \\\\/ Kingsway Park South East\"},{\"Postal code\":\"M9Y\",\"Borough\":\"Not assigned\",\"Neighborhood\":null},{\"Postal code\":\"M1Z\",\"Borough\":\"Not assigned\",\"Neighborhood\":null},{\"Postal code\":\"M2Z\",\"Borough\":\"Not assigned\",\"Neighborhood\":null},{\"Postal code\":\"M3Z\",\"Borough\":\"Not assigned\",\"Neighborhood\":null},{\"Postal code\":\"M4Z\",\"Borough\":\"Not assigned\",\"Neighborhood\":null},{\"Postal code\":\"M5Z\",\"Borough\":\"Not assigned\",\"Neighborhood\":null},{\"Postal code\":\"M6Z\",\"Borough\":\"Not assigned\",\"Neighborhood\":null},{\"Postal code\":\"M7Z\",\"Borough\":\"Not assigned\",\"Neighborhood\":null},{\"Postal code\":\"M8Z\",\"Borough\":\"Etobicoke\",\"Neighborhood\":\"Mimico NW \\\\/ The Queensway West \\\\/ South of Bloor \\\\/ Kingsway Park South West \\\\/ Royal York South West\"},{\"Postal code\":\"M9Z\",\"Borough\":\"Not assigned\",\"Neighborhood\":null}]'"
            ]
          },
          "metadata": {
            "tags": []
          },
          "execution_count": 30
        }
      ]
    },
    {
      "cell_type": "markdown",
      "metadata": {
        "id": "7l66CSGThmSL",
        "colab_type": "text"
      },
      "source": [
        "Now, we need to prepare the data for the dataframe"
      ]
    },
    {
      "cell_type": "code",
      "metadata": {
        "id": "tfbufLyd-O1W",
        "colab_type": "code",
        "colab": {}
      },
      "source": [
        "code = df[0][\"Postal code\"].tolist()\n",
        "borough = df[0][\"Borough\"].tolist()\n",
        "neigh = df[0][\"Neighborhood\"].tolist()"
      ],
      "execution_count": 0,
      "outputs": []
    },
    {
      "cell_type": "code",
      "metadata": {
        "id": "Otmzd8mH_dFI",
        "colab_type": "code",
        "colab": {}
      },
      "source": [
        "canada = pd.DataFrame({'Postal Code': code, 'Borough': borough, 'Neighborhood': neigh})"
      ],
      "execution_count": 0,
      "outputs": []
    },
    {
      "cell_type": "code",
      "metadata": {
        "id": "9zS2dIyl_uqv",
        "colab_type": "code",
        "colab": {
          "base_uri": "https://localhost:8080/",
          "height": 343
        },
        "outputId": "aff6bb0d-d363-4378-a50e-6ff4b482fe07"
      },
      "source": [
        "canada.head(10)"
      ],
      "execution_count": 50,
      "outputs": [
        {
          "output_type": "execute_result",
          "data": {
            "text/html": [
              "<div>\n",
              "<style scoped>\n",
              "    .dataframe tbody tr th:only-of-type {\n",
              "        vertical-align: middle;\n",
              "    }\n",
              "\n",
              "    .dataframe tbody tr th {\n",
              "        vertical-align: top;\n",
              "    }\n",
              "\n",
              "    .dataframe thead th {\n",
              "        text-align: right;\n",
              "    }\n",
              "</style>\n",
              "<table border=\"1\" class=\"dataframe\">\n",
              "  <thead>\n",
              "    <tr style=\"text-align: right;\">\n",
              "      <th></th>\n",
              "      <th>Postal Code</th>\n",
              "      <th>Borough</th>\n",
              "      <th>Neighborhood</th>\n",
              "    </tr>\n",
              "  </thead>\n",
              "  <tbody>\n",
              "    <tr>\n",
              "      <th>0</th>\n",
              "      <td>M1A</td>\n",
              "      <td>Not assigned</td>\n",
              "      <td>NaN</td>\n",
              "    </tr>\n",
              "    <tr>\n",
              "      <th>1</th>\n",
              "      <td>M2A</td>\n",
              "      <td>Not assigned</td>\n",
              "      <td>NaN</td>\n",
              "    </tr>\n",
              "    <tr>\n",
              "      <th>2</th>\n",
              "      <td>M3A</td>\n",
              "      <td>North York</td>\n",
              "      <td>Parkwoods</td>\n",
              "    </tr>\n",
              "    <tr>\n",
              "      <th>3</th>\n",
              "      <td>M4A</td>\n",
              "      <td>North York</td>\n",
              "      <td>Victoria Village</td>\n",
              "    </tr>\n",
              "    <tr>\n",
              "      <th>4</th>\n",
              "      <td>M5A</td>\n",
              "      <td>Downtown Toronto</td>\n",
              "      <td>Regent Park / Harbourfront</td>\n",
              "    </tr>\n",
              "    <tr>\n",
              "      <th>5</th>\n",
              "      <td>M6A</td>\n",
              "      <td>North York</td>\n",
              "      <td>Lawrence Manor / Lawrence Heights</td>\n",
              "    </tr>\n",
              "    <tr>\n",
              "      <th>6</th>\n",
              "      <td>M7A</td>\n",
              "      <td>Downtown Toronto</td>\n",
              "      <td>Queen's Park / Ontario Provincial Government</td>\n",
              "    </tr>\n",
              "    <tr>\n",
              "      <th>7</th>\n",
              "      <td>M8A</td>\n",
              "      <td>Not assigned</td>\n",
              "      <td>NaN</td>\n",
              "    </tr>\n",
              "    <tr>\n",
              "      <th>8</th>\n",
              "      <td>M9A</td>\n",
              "      <td>Etobicoke</td>\n",
              "      <td>Islington Avenue</td>\n",
              "    </tr>\n",
              "    <tr>\n",
              "      <th>9</th>\n",
              "      <td>M1B</td>\n",
              "      <td>Scarborough</td>\n",
              "      <td>Malvern / Rouge</td>\n",
              "    </tr>\n",
              "  </tbody>\n",
              "</table>\n",
              "</div>"
            ],
            "text/plain": [
              "  Postal Code           Borough                                  Neighborhood\n",
              "0         M1A      Not assigned                                           NaN\n",
              "1         M2A      Not assigned                                           NaN\n",
              "2         M3A        North York                                     Parkwoods\n",
              "3         M4A        North York                              Victoria Village\n",
              "4         M5A  Downtown Toronto                    Regent Park / Harbourfront\n",
              "5         M6A        North York             Lawrence Manor / Lawrence Heights\n",
              "6         M7A  Downtown Toronto  Queen's Park / Ontario Provincial Government\n",
              "7         M8A      Not assigned                                           NaN\n",
              "8         M9A         Etobicoke                              Islington Avenue\n",
              "9         M1B       Scarborough                               Malvern / Rouge"
            ]
          },
          "metadata": {
            "tags": []
          },
          "execution_count": 50
        }
      ]
    },
    {
      "cell_type": "code",
      "metadata": {
        "id": "DM1TxHwX__7o",
        "colab_type": "code",
        "colab": {
          "base_uri": "https://localhost:8080/",
          "height": 34
        },
        "outputId": "ec3e59c2-4ce0-4f8f-f85d-2d0a2a3d198d"
      },
      "source": [
        "canada.shape"
      ],
      "execution_count": 40,
      "outputs": [
        {
          "output_type": "execute_result",
          "data": {
            "text/plain": [
              "(180, 3)"
            ]
          },
          "metadata": {
            "tags": []
          },
          "execution_count": 40
        }
      ]
    },
    {
      "cell_type": "code",
      "metadata": {
        "id": "kjvXfHJdYbAv",
        "colab_type": "code",
        "colab": {
          "base_uri": "https://localhost:8080/",
          "height": 343
        },
        "outputId": "fd544218-baf4-4fd0-b1ad-a9b4cb55f23d"
      },
      "source": [
        "canada.tail(10)"
      ],
      "execution_count": 41,
      "outputs": [
        {
          "output_type": "execute_result",
          "data": {
            "text/html": [
              "<div>\n",
              "<style scoped>\n",
              "    .dataframe tbody tr th:only-of-type {\n",
              "        vertical-align: middle;\n",
              "    }\n",
              "\n",
              "    .dataframe tbody tr th {\n",
              "        vertical-align: top;\n",
              "    }\n",
              "\n",
              "    .dataframe thead th {\n",
              "        text-align: right;\n",
              "    }\n",
              "</style>\n",
              "<table border=\"1\" class=\"dataframe\">\n",
              "  <thead>\n",
              "    <tr style=\"text-align: right;\">\n",
              "      <th></th>\n",
              "      <th>Postal Code</th>\n",
              "      <th>Borough</th>\n",
              "      <th>Neighborhood</th>\n",
              "    </tr>\n",
              "  </thead>\n",
              "  <tbody>\n",
              "    <tr>\n",
              "      <th>170</th>\n",
              "      <td>M9Y</td>\n",
              "      <td>Not assigned</td>\n",
              "      <td>NaN</td>\n",
              "    </tr>\n",
              "    <tr>\n",
              "      <th>171</th>\n",
              "      <td>M1Z</td>\n",
              "      <td>Not assigned</td>\n",
              "      <td>NaN</td>\n",
              "    </tr>\n",
              "    <tr>\n",
              "      <th>172</th>\n",
              "      <td>M2Z</td>\n",
              "      <td>Not assigned</td>\n",
              "      <td>NaN</td>\n",
              "    </tr>\n",
              "    <tr>\n",
              "      <th>173</th>\n",
              "      <td>M3Z</td>\n",
              "      <td>Not assigned</td>\n",
              "      <td>NaN</td>\n",
              "    </tr>\n",
              "    <tr>\n",
              "      <th>174</th>\n",
              "      <td>M4Z</td>\n",
              "      <td>Not assigned</td>\n",
              "      <td>NaN</td>\n",
              "    </tr>\n",
              "    <tr>\n",
              "      <th>175</th>\n",
              "      <td>M5Z</td>\n",
              "      <td>Not assigned</td>\n",
              "      <td>NaN</td>\n",
              "    </tr>\n",
              "    <tr>\n",
              "      <th>176</th>\n",
              "      <td>M6Z</td>\n",
              "      <td>Not assigned</td>\n",
              "      <td>NaN</td>\n",
              "    </tr>\n",
              "    <tr>\n",
              "      <th>177</th>\n",
              "      <td>M7Z</td>\n",
              "      <td>Not assigned</td>\n",
              "      <td>NaN</td>\n",
              "    </tr>\n",
              "    <tr>\n",
              "      <th>178</th>\n",
              "      <td>M8Z</td>\n",
              "      <td>Etobicoke</td>\n",
              "      <td>Mimico NW / The Queensway West / South of Bloo...</td>\n",
              "    </tr>\n",
              "    <tr>\n",
              "      <th>179</th>\n",
              "      <td>M9Z</td>\n",
              "      <td>Not assigned</td>\n",
              "      <td>NaN</td>\n",
              "    </tr>\n",
              "  </tbody>\n",
              "</table>\n",
              "</div>"
            ],
            "text/plain": [
              "    Postal Code  ...                                       Neighborhood\n",
              "170         M9Y  ...                                                NaN\n",
              "171         M1Z  ...                                                NaN\n",
              "172         M2Z  ...                                                NaN\n",
              "173         M3Z  ...                                                NaN\n",
              "174         M4Z  ...                                                NaN\n",
              "175         M5Z  ...                                                NaN\n",
              "176         M6Z  ...                                                NaN\n",
              "177         M7Z  ...                                                NaN\n",
              "178         M8Z  ...  Mimico NW / The Queensway West / South of Bloo...\n",
              "179         M9Z  ...                                                NaN\n",
              "\n",
              "[10 rows x 3 columns]"
            ]
          },
          "metadata": {
            "tags": []
          },
          "execution_count": 41
        }
      ]
    },
    {
      "cell_type": "markdown",
      "metadata": {
        "id": "6BkBXZ29hsQb",
        "colab_type": "text"
      },
      "source": [
        "Replace the 'Not assigned' by NaN because it's easier to deal with NaN values with numpy"
      ]
    },
    {
      "cell_type": "code",
      "metadata": {
        "id": "g0au4-8TYnik",
        "colab_type": "code",
        "colab": {
          "base_uri": "https://localhost:8080/",
          "height": 195
        },
        "outputId": "40221a3b-f739-486f-c463-b25cfc92f2fe"
      },
      "source": [
        "canada.replace(\"Not assigned\", np.nan, inplace = True)\n",
        "canada.head(5)"
      ],
      "execution_count": 51,
      "outputs": [
        {
          "output_type": "execute_result",
          "data": {
            "text/html": [
              "<div>\n",
              "<style scoped>\n",
              "    .dataframe tbody tr th:only-of-type {\n",
              "        vertical-align: middle;\n",
              "    }\n",
              "\n",
              "    .dataframe tbody tr th {\n",
              "        vertical-align: top;\n",
              "    }\n",
              "\n",
              "    .dataframe thead th {\n",
              "        text-align: right;\n",
              "    }\n",
              "</style>\n",
              "<table border=\"1\" class=\"dataframe\">\n",
              "  <thead>\n",
              "    <tr style=\"text-align: right;\">\n",
              "      <th></th>\n",
              "      <th>Postal Code</th>\n",
              "      <th>Borough</th>\n",
              "      <th>Neighborhood</th>\n",
              "    </tr>\n",
              "  </thead>\n",
              "  <tbody>\n",
              "    <tr>\n",
              "      <th>0</th>\n",
              "      <td>M1A</td>\n",
              "      <td>NaN</td>\n",
              "      <td>NaN</td>\n",
              "    </tr>\n",
              "    <tr>\n",
              "      <th>1</th>\n",
              "      <td>M2A</td>\n",
              "      <td>NaN</td>\n",
              "      <td>NaN</td>\n",
              "    </tr>\n",
              "    <tr>\n",
              "      <th>2</th>\n",
              "      <td>M3A</td>\n",
              "      <td>North York</td>\n",
              "      <td>Parkwoods</td>\n",
              "    </tr>\n",
              "    <tr>\n",
              "      <th>3</th>\n",
              "      <td>M4A</td>\n",
              "      <td>North York</td>\n",
              "      <td>Victoria Village</td>\n",
              "    </tr>\n",
              "    <tr>\n",
              "      <th>4</th>\n",
              "      <td>M5A</td>\n",
              "      <td>Downtown Toronto</td>\n",
              "      <td>Regent Park / Harbourfront</td>\n",
              "    </tr>\n",
              "  </tbody>\n",
              "</table>\n",
              "</div>"
            ],
            "text/plain": [
              "  Postal Code           Borough                Neighborhood\n",
              "0         M1A               NaN                         NaN\n",
              "1         M2A               NaN                         NaN\n",
              "2         M3A        North York                   Parkwoods\n",
              "3         M4A        North York            Victoria Village\n",
              "4         M5A  Downtown Toronto  Regent Park / Harbourfront"
            ]
          },
          "metadata": {
            "tags": []
          },
          "execution_count": 51
        }
      ]
    },
    {
      "cell_type": "markdown",
      "metadata": {
        "id": "EtwsNMamh08C",
        "colab_type": "text"
      },
      "source": [
        "We don't want to have rows with no Borough name. So we drop them"
      ]
    },
    {
      "cell_type": "code",
      "metadata": {
        "id": "7W7fmZhRZ9jP",
        "colab_type": "code",
        "colab": {
          "base_uri": "https://localhost:8080/",
          "height": 639
        },
        "outputId": "93dad182-7d59-43c8-caaa-5c6a471ebcb1"
      },
      "source": [
        "canada.dropna(subset=[\"Borough\"], axis=0, inplace=True)\n",
        "canada.reset_index(drop=True, inplace=True)\n",
        "canada.head(20)"
      ],
      "execution_count": 53,
      "outputs": [
        {
          "output_type": "execute_result",
          "data": {
            "text/html": [
              "<div>\n",
              "<style scoped>\n",
              "    .dataframe tbody tr th:only-of-type {\n",
              "        vertical-align: middle;\n",
              "    }\n",
              "\n",
              "    .dataframe tbody tr th {\n",
              "        vertical-align: top;\n",
              "    }\n",
              "\n",
              "    .dataframe thead th {\n",
              "        text-align: right;\n",
              "    }\n",
              "</style>\n",
              "<table border=\"1\" class=\"dataframe\">\n",
              "  <thead>\n",
              "    <tr style=\"text-align: right;\">\n",
              "      <th></th>\n",
              "      <th>Postal Code</th>\n",
              "      <th>Borough</th>\n",
              "      <th>Neighborhood</th>\n",
              "    </tr>\n",
              "  </thead>\n",
              "  <tbody>\n",
              "    <tr>\n",
              "      <th>0</th>\n",
              "      <td>M3A</td>\n",
              "      <td>North York</td>\n",
              "      <td>Parkwoods</td>\n",
              "    </tr>\n",
              "    <tr>\n",
              "      <th>1</th>\n",
              "      <td>M4A</td>\n",
              "      <td>North York</td>\n",
              "      <td>Victoria Village</td>\n",
              "    </tr>\n",
              "    <tr>\n",
              "      <th>2</th>\n",
              "      <td>M5A</td>\n",
              "      <td>Downtown Toronto</td>\n",
              "      <td>Regent Park / Harbourfront</td>\n",
              "    </tr>\n",
              "    <tr>\n",
              "      <th>3</th>\n",
              "      <td>M6A</td>\n",
              "      <td>North York</td>\n",
              "      <td>Lawrence Manor / Lawrence Heights</td>\n",
              "    </tr>\n",
              "    <tr>\n",
              "      <th>4</th>\n",
              "      <td>M7A</td>\n",
              "      <td>Downtown Toronto</td>\n",
              "      <td>Queen's Park / Ontario Provincial Government</td>\n",
              "    </tr>\n",
              "    <tr>\n",
              "      <th>5</th>\n",
              "      <td>M9A</td>\n",
              "      <td>Etobicoke</td>\n",
              "      <td>Islington Avenue</td>\n",
              "    </tr>\n",
              "    <tr>\n",
              "      <th>6</th>\n",
              "      <td>M1B</td>\n",
              "      <td>Scarborough</td>\n",
              "      <td>Malvern / Rouge</td>\n",
              "    </tr>\n",
              "    <tr>\n",
              "      <th>7</th>\n",
              "      <td>M3B</td>\n",
              "      <td>North York</td>\n",
              "      <td>Don Mills</td>\n",
              "    </tr>\n",
              "    <tr>\n",
              "      <th>8</th>\n",
              "      <td>M4B</td>\n",
              "      <td>East York</td>\n",
              "      <td>Parkview Hill / Woodbine Gardens</td>\n",
              "    </tr>\n",
              "    <tr>\n",
              "      <th>9</th>\n",
              "      <td>M5B</td>\n",
              "      <td>Downtown Toronto</td>\n",
              "      <td>Garden District / Ryerson</td>\n",
              "    </tr>\n",
              "    <tr>\n",
              "      <th>10</th>\n",
              "      <td>M6B</td>\n",
              "      <td>North York</td>\n",
              "      <td>Glencairn</td>\n",
              "    </tr>\n",
              "    <tr>\n",
              "      <th>11</th>\n",
              "      <td>M9B</td>\n",
              "      <td>Etobicoke</td>\n",
              "      <td>West Deane Park / Princess Gardens / Martin Gr...</td>\n",
              "    </tr>\n",
              "    <tr>\n",
              "      <th>12</th>\n",
              "      <td>M1C</td>\n",
              "      <td>Scarborough</td>\n",
              "      <td>Rouge Hill / Port Union / Highland Creek</td>\n",
              "    </tr>\n",
              "    <tr>\n",
              "      <th>13</th>\n",
              "      <td>M3C</td>\n",
              "      <td>North York</td>\n",
              "      <td>Don Mills</td>\n",
              "    </tr>\n",
              "    <tr>\n",
              "      <th>14</th>\n",
              "      <td>M4C</td>\n",
              "      <td>East York</td>\n",
              "      <td>Woodbine Heights</td>\n",
              "    </tr>\n",
              "    <tr>\n",
              "      <th>15</th>\n",
              "      <td>M5C</td>\n",
              "      <td>Downtown Toronto</td>\n",
              "      <td>St. James Town</td>\n",
              "    </tr>\n",
              "    <tr>\n",
              "      <th>16</th>\n",
              "      <td>M6C</td>\n",
              "      <td>York</td>\n",
              "      <td>Humewood-Cedarvale</td>\n",
              "    </tr>\n",
              "    <tr>\n",
              "      <th>17</th>\n",
              "      <td>M9C</td>\n",
              "      <td>Etobicoke</td>\n",
              "      <td>Eringate / Bloordale Gardens / Old Burnhamthor...</td>\n",
              "    </tr>\n",
              "    <tr>\n",
              "      <th>18</th>\n",
              "      <td>M1E</td>\n",
              "      <td>Scarborough</td>\n",
              "      <td>Guildwood / Morningside / West Hill</td>\n",
              "    </tr>\n",
              "    <tr>\n",
              "      <th>19</th>\n",
              "      <td>M4E</td>\n",
              "      <td>East Toronto</td>\n",
              "      <td>The Beaches</td>\n",
              "    </tr>\n",
              "  </tbody>\n",
              "</table>\n",
              "</div>"
            ],
            "text/plain": [
              "   Postal Code  ...                                       Neighborhood\n",
              "0          M3A  ...                                          Parkwoods\n",
              "1          M4A  ...                                   Victoria Village\n",
              "2          M5A  ...                         Regent Park / Harbourfront\n",
              "3          M6A  ...                  Lawrence Manor / Lawrence Heights\n",
              "4          M7A  ...       Queen's Park / Ontario Provincial Government\n",
              "5          M9A  ...                                   Islington Avenue\n",
              "6          M1B  ...                                    Malvern / Rouge\n",
              "7          M3B  ...                                          Don Mills\n",
              "8          M4B  ...                   Parkview Hill / Woodbine Gardens\n",
              "9          M5B  ...                          Garden District / Ryerson\n",
              "10         M6B  ...                                          Glencairn\n",
              "11         M9B  ...  West Deane Park / Princess Gardens / Martin Gr...\n",
              "12         M1C  ...           Rouge Hill / Port Union / Highland Creek\n",
              "13         M3C  ...                                          Don Mills\n",
              "14         M4C  ...                                   Woodbine Heights\n",
              "15         M5C  ...                                     St. James Town\n",
              "16         M6C  ...                                 Humewood-Cedarvale\n",
              "17         M9C  ...  Eringate / Bloordale Gardens / Old Burnhamthor...\n",
              "18         M1E  ...                Guildwood / Morningside / West Hill\n",
              "19         M4E  ...                                        The Beaches\n",
              "\n",
              "[20 rows x 3 columns]"
            ]
          },
          "metadata": {
            "tags": []
          },
          "execution_count": 53
        }
      ]
    },
    {
      "cell_type": "markdown",
      "metadata": {
        "id": "rUnO4jD9h-CW",
        "colab_type": "text"
      },
      "source": [
        "We have 103 rows and 3 columns"
      ]
    },
    {
      "cell_type": "code",
      "metadata": {
        "id": "g9uXQq9nfh_t",
        "colab_type": "code",
        "colab": {
          "base_uri": "https://localhost:8080/",
          "height": 34
        },
        "outputId": "74a3a774-bf54-4edf-8dc5-9a8008c70b99"
      },
      "source": [
        "print(canada.shape)"
      ],
      "execution_count": 55,
      "outputs": [
        {
          "output_type": "stream",
          "text": [
            "(103, 3)\n"
          ],
          "name": "stdout"
        }
      ]
    },
    {
      "cell_type": "markdown",
      "metadata": {
        "id": "X9SfKI3dh7L5",
        "colab_type": "text"
      },
      "source": [
        "Download the data for further use"
      ]
    },
    {
      "cell_type": "code",
      "metadata": {
        "id": "hkePA2g7gtIs",
        "colab_type": "code",
        "colab": {}
      },
      "source": [
        "canada.to_csv('canada.csv', index = False)"
      ],
      "execution_count": 0,
      "outputs": []
    }
  ]
}